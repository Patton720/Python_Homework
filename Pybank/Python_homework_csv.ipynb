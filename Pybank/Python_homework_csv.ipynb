{
 "cells": [
  {
   "cell_type": "code",
   "execution_count": 18,
   "metadata": {},
   "outputs": [],
   "source": [
    "import csv"
   ]
  },
  {
   "cell_type": "code",
   "execution_count": 95,
   "metadata": {},
   "outputs": [
    {
     "name": "stdout",
     "output_type": "stream",
     "text": [
      "86\n",
      "38382578\n",
      "['Sep-2013', -2196167]\n",
      "['Feb-2012', 1926159]\n",
      "6196.1511627906975\n"
     ]
    }
   ],
   "source": [
    "total_months = 0\n",
    "net_total = 0\n",
    "average_change =0\n",
    "largest_increase = [\"\",0]\n",
    "biggest_decrease = [\"\",0]\n",
    "month_of_change = []\n",
    "revenue_list_change =[]\n",
    "\n",
    "\n",
    "with open ('budget_data.csv', 'r+' ) as csv_file:\n",
    "    budget = csv.reader(csv_file)\n",
    "    header = next(budget)\n",
    "    \n",
    "    \n",
    "    total_months =total_months\n",
    "    net_total = net_total   \n",
    "    average_change =average_change \n",
    "    prev_net =int(row[1])\n",
    "    \n",
    "    for row in budget:\n",
    "        total_months =total_months +1\n",
    "        net_total =net_total + int(row[1])\n",
    "        \n",
    "        net_change =int(row[1]) - prev_net\n",
    "        prev_net =int(row[1])\n",
    "        revenue_list_change =revenue_list_change + [net_change]\n",
    "        month_of_change =month_of_change + [row[0]]\n",
    "        \n",
    "        if net_change > largest_increase[1]:\n",
    "            largest_increase[0] =row[0]\n",
    "            largest_increase[1] = net_change\n",
    "            \n",
    "        if net_change < biggest_decrease[1]:\n",
    "            biggest_decrease[0] =row[0]\n",
    "            biggest_decrease[1] =net_change\n",
    "        \n",
    "#net value. It's calculated using the following formula: percent increase = increase divided by original number multiplied by 100.\n",
    "net_value = net_change / total_months\n",
    "\n",
    "\n",
    "\n",
    "print(total_months)\n",
    "print(net_total)\n",
    "print(biggest_decrease)\n",
    "print(largest_increase)\n",
    "print(net_value)\n",
    "        \n",
    "    "
   ]
  },
  {
   "cell_type": "code",
   "execution_count": null,
   "metadata": {},
   "outputs": [],
   "source": []
  },
  {
   "cell_type": "code",
   "execution_count": 4,
   "metadata": {},
   "outputs": [],
   "source": [
    "total_months = 0\n",
    "net_total = 0\n",
    "average_change =[]\n",
    "greatest_increase = [\"\",0]\n",
    "greatest_decrease = [\"\",0]\n"
   ]
  },
  {
   "cell_type": "code",
   "execution_count": 38,
   "metadata": {
    "collapsed": true,
    "jupyter": {
     "outputs_hidden": true,
     "source_hidden": true
    }
   },
   "outputs": [
    {
     "ename": "ValueError",
     "evalue": "I/O operation on closed file.",
     "output_type": "error",
     "traceback": [
      "\u001b[0;31m---------------------------------------------------------------------------\u001b[0m",
      "\u001b[0;31mValueError\u001b[0m                                Traceback (most recent call last)",
      "\u001b[0;32m<ipython-input-38-38b58188536f>\u001b[0m in \u001b[0;36m<module>\u001b[0;34m\u001b[0m\n\u001b[0;32m----> 1\u001b[0;31m \u001b[0;32mfor\u001b[0m \u001b[0mrow\u001b[0m \u001b[0;32min\u001b[0m \u001b[0mbudget\u001b[0m\u001b[0;34m:\u001b[0m\u001b[0;34m\u001b[0m\u001b[0;34m\u001b[0m\u001b[0m\n\u001b[0m\u001b[1;32m      2\u001b[0m     \u001b[0mtotal_months\u001b[0m \u001b[0;34m=\u001b[0m \u001b[0mtotal_months\u001b[0m \u001b[0;34m+\u001b[0m\u001b[0;36m1\u001b[0m\u001b[0;34m\u001b[0m\u001b[0;34m\u001b[0m\u001b[0m\n",
      "\u001b[0;31mValueError\u001b[0m: I/O operation on closed file."
     ]
    }
   ],
   "source": [
    "for row in budget:\n",
    "    total_months = total_months +1\n"
   ]
  },
  {
   "cell_type": "code",
   "execution_count": null,
   "metadata": {},
   "outputs": [],
   "source": []
  }
 ],
 "metadata": {
  "kernelspec": {
   "display_name": "Python 3",
   "language": "python",
   "name": "python3"
  },
  "language_info": {
   "codemirror_mode": {
    "name": "ipython",
    "version": 3
   },
   "file_extension": ".py",
   "mimetype": "text/x-python",
   "name": "python",
   "nbconvert_exporter": "python",
   "pygments_lexer": "ipython3",
   "version": "3.7.4"
  }
 },
 "nbformat": 4,
 "nbformat_minor": 4
}
